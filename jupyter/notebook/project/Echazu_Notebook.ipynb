{
 "cells": [
  {
   "cell_type": "code",
   "execution_count": 34,
   "metadata": {},
   "outputs": [],
   "source": [
    "import findspark\n",
    "findspark.init()"
   ]
  },
  {
   "cell_type": "code",
   "execution_count": 35,
   "metadata": {},
   "outputs": [],
   "source": [
    "from pyspark.sql import SparkSession\n",
    "spark = (\n",
    "    SparkSession.builder\n",
    "    .appName(\"pyspark-titanic-sol\")\n",
    "    .config(\"spark.driver.memory\", \"512m\")\n",
    "    .config(\"spark.driver.cores\", \"1\")\n",
    "    .config(\"spark.executor.memory\", \"512m\")\n",
    "    .config(\"spark.executor.cores\", \"1\")\n",
    "    .config(\"spark.sql.shuffle.partitions\", \"2\")\n",
    "    .getOrCreate()\n",
    ")"
   ]
  },
  {
   "cell_type": "code",
   "execution_count": 36,
   "metadata": {},
   "outputs": [
    {
     "data": {
      "text/plain": [
       "'2.4.5'"
      ]
     },
     "execution_count": 36,
     "metadata": {},
     "output_type": "execute_result"
    }
   ],
   "source": [
    "spark.version"
   ]
  },
  {
   "cell_type": "markdown",
   "metadata": {
    "id": "0zbpn9b_hxlj"
   },
   "source": [
    "# Dataset obtenido de Kaggle sobre partidas de ajedrez"
   ]
  },
  {
   "cell_type": "code",
   "execution_count": 37,
   "metadata": {},
   "outputs": [],
   "source": [
    "df = spark.read.csv('/dataset/chess_games.csv', header=True)"
   ]
  },
  {
   "cell_type": "code",
   "execution_count": 38,
   "metadata": {},
   "outputs": [
    {
     "name": "stdout",
     "output_type": "stream",
     "text": [
      "<class 'pyspark.sql.dataframe.DataFrame'>\n"
     ]
    }
   ],
   "source": [
    "print(type(df))"
   ]
  },
  {
   "cell_type": "code",
   "execution_count": 39,
   "metadata": {
    "colab": {
     "base_uri": "https://localhost:8080/"
    },
    "executionInfo": {
     "elapsed": 24472,
     "status": "ok",
     "timestamp": 1630694111666,
     "user": {
      "displayName": "JUAN FRANCISCO ECHAZÚ",
      "photoUrl": "",
      "userId": "08134234583124810610"
     },
     "user_tz": 180
    },
    "id": "gJ5zt_RJ6zqo",
    "outputId": "f050fa71-e33e-4b2d-d32d-7e4fe77e228f"
   },
   "outputs": [
    {
     "data": {
      "text/plain": [
       "6256184"
      ]
     },
     "execution_count": 39,
     "metadata": {},
     "output_type": "execute_result"
    }
   ],
   "source": [
    "df.count()"
   ]
  },
  {
   "cell_type": "code",
   "execution_count": 7,
   "metadata": {
    "colab": {
     "base_uri": "https://localhost:8080/"
    },
    "executionInfo": {
     "elapsed": 1014,
     "status": "ok",
     "timestamp": 1630694120250,
     "user": {
      "displayName": "JUAN FRANCISCO ECHAZÚ",
      "photoUrl": "",
      "userId": "08134234583124810610"
     },
     "user_tz": 180
    },
    "id": "B2xAtkqD8az8",
    "outputId": "2d8ba603-21c0-4224-a582-ae3282db9053"
   },
   "outputs": [
    {
     "name": "stdout",
     "output_type": "stream",
     "text": [
      "root\n",
      " |-- Event: string (nullable = true)\n",
      " |-- White: string (nullable = true)\n",
      " |-- Black: string (nullable = true)\n",
      " |-- Result: string (nullable = true)\n",
      " |-- UTCDate: string (nullable = true)\n",
      " |-- UTCTime: string (nullable = true)\n",
      " |-- WhiteElo: string (nullable = true)\n",
      " |-- BlackElo: string (nullable = true)\n",
      " |-- WhiteRatingDiff: string (nullable = true)\n",
      " |-- BlackRatingDiff: string (nullable = true)\n",
      " |-- ECO: string (nullable = true)\n",
      " |-- Opening: string (nullable = true)\n",
      " |-- TimeControl: string (nullable = true)\n",
      " |-- Termination: string (nullable = true)\n",
      " |-- AN: string (nullable = true)\n",
      "\n"
     ]
    }
   ],
   "source": [
    "df.printSchema()"
   ]
  },
  {
   "cell_type": "code",
   "execution_count": 8,
   "metadata": {
    "colab": {
     "base_uri": "https://localhost:8080/"
    },
    "executionInfo": {
     "elapsed": 1114,
     "status": "ok",
     "timestamp": 1630694258315,
     "user": {
      "displayName": "JUAN FRANCISCO ECHAZÚ",
      "photoUrl": "",
      "userId": "08134234583124810610"
     },
     "user_tz": 180
    },
    "id": "rSLdhLIK8fsm",
    "outputId": "e21164fd-ae66-4fc9-cca7-0dd1e1cebb67"
   },
   "outputs": [
    {
     "name": "stdout",
     "output_type": "stream",
     "text": [
      "+------------------+---------------+---------------+------+----------+--------+--------+--------+---------------+---------------+---+--------------------+-----------+------------+--------------------+\n",
      "|             Event|          White|          Black|Result|   UTCDate| UTCTime|WhiteElo|BlackElo|WhiteRatingDiff|BlackRatingDiff|ECO|             Opening|TimeControl| Termination|                  AN|\n",
      "+------------------+---------------+---------------+------+----------+--------+--------+--------+---------------+---------------+---+--------------------+-----------+------------+--------------------+\n",
      "|        Classical |        eisaaaa|       HAMID449|   1-0|2016.06.30|22:00:01|    1901|    1896|           11.0|          -11.0|D10|        Slav Defense|      300+5|Time forfeit|1. d4 d5 2. c4 c6...|\n",
      "|            Blitz |         go4jas|     Sergei1973|   0-1|2016.06.30|22:00:01|    1641|    1627|          -11.0|           12.0|C20|King's Pawn Openi...|      300+0|      Normal|1. e4 e5 2. b3 Nf...|\n",
      "| Blitz tournament |Evangelistaizac|         kafune|   1-0|2016.06.30|22:00:02|    1647|    1688|           13.0|          -13.0|B01|Scandinavian Defe...|      180+0|Time forfeit|1. e4 d5 2. exd5 ...|\n",
      "|   Correspondence |         Jvayne|       Wsjvayne|   1-0|2016.06.30|22:00:02|    1706|    1317|           27.0|          -25.0|A00|Van't Kruijs Opening|          -|      Normal|1. e3 Nf6 2. Bc4 ...|\n",
      "| Blitz tournament |         kyoday|      BrettDale|   0-1|2016.06.30|22:00:02|    1945|    1900|          -14.0|           13.0|B90|Sicilian Defense:...|      180+0|Time forfeit|1. e4 c5 2. Nf3 d...|\n",
      "| Blitz tournament | lucaseixasouza|         diguim|   0-1|2016.06.30|22:00:02|    1773|    1809|          -10.0|           10.0|C27|         Vienna Game|      180+0|      Normal|1. e4 e5 2. Nc3 d...|\n",
      "| Blitz tournament |       RENZZO77|HeadlessChicken|   0-1|2016.06.30|22:00:02|    1895|    1886|          -12.0|           12.0|B10|Caro-Kann Defense...|      180+0|Time forfeit|1. e4 c6 2. Nf3 d...|\n",
      "| Blitz tournament |          ipero|      Bayern123|   1-0|2016.06.30|22:00:02|    2155|    2356|           20.0|          -20.0|D02|Queen's Pawn Game...|      180+0|      Normal|1. d4 d5 2. Nf3 N...|\n",
      "| Blitz tournament |Loginov19510410|        Kereshu|   0-1|2016.06.30|22:00:02|    2010|    2111|           -9.0|            9.0|A45|         Indian Game|      300+0|      Normal|1. d4 Nf6 2. Bf4 ...|\n",
      "| Blitz tournament |     Shambobala|     cernunnoss|   1-0|2016.06.30|22:00:02|    1764|    1773|           12.0|          -12.0|B01|Scandinavian Defe...|      180+0|Time forfeit|1. e4 d5 2. exd5 ...|\n",
      "|        Classical |        DARDELU|   chess4life54|   0-1|2016.06.30|22:00:01|    1649|    1638|          -13.0|           11.0|C57|Italian Game: Two...|      900+3|      Normal|1. e4 e5 2. Nf3 N...|\n",
      "|        Classical |        fabikim|         sereno|   1-0|2016.06.30|22:00:02|    1630|    1500|            7.0|           -7.0|C41| Philidor Defense #3|      420+5|      Normal|1. e4 e5 2. Nf3 d...|\n",
      "| Blitz tournament |      IZDenisZI|         BoBo93|   1-0|2016.06.30|22:00:02|    1833|    1837|           11.0|          -12.0|C36|King's Gambit Acc...|      300+0|      Normal|1. e4 e5 2. f4 ex...|\n",
      "| Blitz tournament |     lasha-fero| ildivinojohnny|   1-0|2016.06.30|22:00:02|    2020|    1979|           10.0|          -11.0|A00|      Polish Opening|      180+0|Time forfeit|1. b4 e6 2. Bb2 d...|\n",
      "| Blitz tournament |       arkadyNa|     sofianet06|   0-1|2016.06.30|22:00:02|    1581|    1616|          -12.0|           11.0|B01|Scandinavian Defe...|      180+0|Time forfeit|1. e4 d5 2. exd5 ...|\n",
      "| Blitz tournament |    mayconchess|        trend19|   0-1|2016.06.30|22:00:02|    1879|    1868|          -13.0|           12.0|B01|Scandinavian Defe...|      180+0|      Normal|1. e4 d5 2. exd5 ...|\n",
      "| Blitz tournament |         lj1983|        plmnnnn|   1-0|2016.06.30|22:00:02|    1963|    1979|           12.0|          -13.0|B10|Caro-Kann Defense...|      180+0|      Normal|1. e4 c6 2. Nf3 d...|\n",
      "| Blitz tournament |         Inorem|       leymoral|   1-0|2016.06.30|22:00:02|    1751|    1712|           10.0|          -10.0|C62|Ruy Lopez: Steini...|      180+0|      Normal|1. e4 e5 2. Nf3 N...|\n",
      "| Blitz tournament |     Torres2300| Trabelsi-Wajdi|   0-1|2016.06.30|22:00:02|    1795|    1800|          -14.0|           11.0|B32|Sicilian Defense:...|      300+0|      Normal|1. e4 c5 2. Nf3 e...|\n",
      "| Blitz tournament |         Igor76|          dancg|   1-0|2016.06.30|22:00:02|    1913|    1925|           11.0|          -13.0|B12|Caro-Kann Defense...|      300+0|      Normal|1. e4 c6 2. d4 d5...|\n",
      "+------------------+---------------+---------------+------+----------+--------+--------+--------+---------------+---------------+---+--------------------+-----------+------------+--------------------+\n",
      "only showing top 20 rows\n",
      "\n"
     ]
    }
   ],
   "source": [
    "df.show()"
   ]
  },
  {
   "cell_type": "markdown",
   "metadata": {
    "id": "BwKkiJFpiCdK"
   },
   "source": [
    "# **Result** será la variable a predecir"
   ]
  },
  {
   "cell_type": "code",
   "execution_count": 9,
   "metadata": {
    "colab": {
     "base_uri": "https://localhost:8080/"
    },
    "executionInfo": {
     "elapsed": 319,
     "status": "ok",
     "timestamp": 1630695970675,
     "user": {
      "displayName": "JUAN FRANCISCO ECHAZÚ",
      "photoUrl": "",
      "userId": "08134234583124810610"
     },
     "user_tz": 180
    },
    "id": "9t-cyHi8DYNj",
    "outputId": "09ec0489-1154-4035-bbb8-51bd95b79abb"
   },
   "outputs": [
    {
     "name": "stdout",
     "output_type": "stream",
     "text": [
      "+------+\n",
      "|Result|\n",
      "+------+\n",
      "|   1-0|\n",
      "|   0-1|\n",
      "|   1-0|\n",
      "|   1-0|\n",
      "|   0-1|\n",
      "|   0-1|\n",
      "|   0-1|\n",
      "|   1-0|\n",
      "|   0-1|\n",
      "|   1-0|\n",
      "|   0-1|\n",
      "|   1-0|\n",
      "|   1-0|\n",
      "|   1-0|\n",
      "|   0-1|\n",
      "|   0-1|\n",
      "|   1-0|\n",
      "|   1-0|\n",
      "|   0-1|\n",
      "|   1-0|\n",
      "+------+\n",
      "only showing top 20 rows\n",
      "\n"
     ]
    }
   ],
   "source": [
    "df.select('Result').show()"
   ]
  },
  {
   "cell_type": "code",
   "execution_count": 10,
   "metadata": {
    "id": "bl2DTN3zKBmJ"
   },
   "outputs": [],
   "source": [
    "from pyspark.sql import SparkSession\n",
    "from pyspark.sql import functions\n",
    "from pyspark.sql.types import DoubleType, IntegerType\n",
    "from pyspark.sql.functions import rand, when"
   ]
  },
  {
   "cell_type": "markdown",
   "metadata": {
    "id": "USrU7TxcR1jV"
   },
   "source": [
    "## Si ganaron blancas Result = 1, si ganaron negras Result = 0 y si empataron Result = 9. La columna se conviente en tipo entero"
   ]
  },
  {
   "cell_type": "code",
   "execution_count": 11,
   "metadata": {
    "id": "04aaJ2AZHApp"
   },
   "outputs": [],
   "source": [
    "df_v2 = df.withColumn('Result', when( df['Result'] == '1-0', '1').otherwise(df['Result']))\n",
    "df_v3 = df_v2.withColumn('Result', when( df_v2['Result'] == '0-1', '0').otherwise(df_v2['Result']))\n",
    "df_v4 = df_v3.withColumn('Result', when( df_v3['Result'] == '1/2-1/2', '9').otherwise(df_v3['Result']))\n",
    "df_final = df_v4.withColumn('Result', df_v4['Result'].cast(IntegerType()))"
   ]
  },
  {
   "cell_type": "code",
   "execution_count": 12,
   "metadata": {
    "colab": {
     "base_uri": "https://localhost:8080/"
    },
    "executionInfo": {
     "elapsed": 322,
     "status": "ok",
     "timestamp": 1630700017545,
     "user": {
      "displayName": "JUAN FRANCISCO ECHAZÚ",
      "photoUrl": "",
      "userId": "08134234583124810610"
     },
     "user_tz": 180
    },
    "id": "gqN4fWOcRnRA",
    "outputId": "c34725a6-8178-4d1b-d6d4-bf7ae14fb10a"
   },
   "outputs": [
    {
     "name": "stdout",
     "output_type": "stream",
     "text": [
      "root\n",
      " |-- Event: string (nullable = true)\n",
      " |-- White: string (nullable = true)\n",
      " |-- Black: string (nullable = true)\n",
      " |-- Result: integer (nullable = true)\n",
      " |-- UTCDate: string (nullable = true)\n",
      " |-- UTCTime: string (nullable = true)\n",
      " |-- WhiteElo: string (nullable = true)\n",
      " |-- BlackElo: string (nullable = true)\n",
      " |-- WhiteRatingDiff: string (nullable = true)\n",
      " |-- BlackRatingDiff: string (nullable = true)\n",
      " |-- ECO: string (nullable = true)\n",
      " |-- Opening: string (nullable = true)\n",
      " |-- TimeControl: string (nullable = true)\n",
      " |-- Termination: string (nullable = true)\n",
      " |-- AN: string (nullable = true)\n",
      "\n"
     ]
    }
   ],
   "source": [
    "df_final.printSchema()"
   ]
  },
  {
   "cell_type": "code",
   "execution_count": 24,
   "metadata": {},
   "outputs": [],
   "source": [
    "# Guardar resultado en archivo parquet"
   ]
  },
  {
   "cell_type": "code",
   "execution_count": 29,
   "metadata": {},
   "outputs": [],
   "source": [
    "output_dir = '/dataset/chees_game.parquet'"
   ]
  },
  {
   "cell_type": "code",
   "execution_count": 30,
   "metadata": {},
   "outputs": [],
   "source": [
    "df_final \\\n",
    "    .write \\\n",
    "    .mode('overwrite') \\\n",
    "    .parquet(output_dir)"
   ]
  },
  {
   "cell_type": "code",
   "execution_count": 31,
   "metadata": {},
   "outputs": [],
   "source": [
    "df_parquet = spark.read.parquet(output_dir)"
   ]
  },
  {
   "cell_type": "code",
   "execution_count": 32,
   "metadata": {},
   "outputs": [
    {
     "data": {
      "text/plain": [
       "6256184"
      ]
     },
     "execution_count": 32,
     "metadata": {},
     "output_type": "execute_result"
    }
   ],
   "source": [
    "df_parquet.count()"
   ]
  },
  {
   "cell_type": "code",
   "execution_count": null,
   "metadata": {},
   "outputs": [],
   "source": [
    "# Visualizacion de archivo parquet"
   ]
  },
  {
   "cell_type": "code",
   "execution_count": 33,
   "metadata": {},
   "outputs": [
    {
     "name": "stdout",
     "output_type": "stream",
     "text": [
      "+-------------------+---------------+--------------------+------+----------+--------+--------+--------+---------------+---------------+---+--------------------+-----------+------------+--------------------+\n",
      "|              Event|          White|               Black|Result|   UTCDate| UTCTime|WhiteElo|BlackElo|WhiteRatingDiff|BlackRatingDiff|ECO|             Opening|TimeControl| Termination|                  AN|\n",
      "+-------------------+---------------+--------------------+------+----------+--------+--------+--------+---------------+---------------+---+--------------------+-----------+------------+--------------------+\n",
      "|         Classical |      acuario22|              mvbg53|     1|2016.07.27|16:43:40|    1825|    1740|            8.0|           -8.0|C50|Italian Game: Sch...|      600+0|Time forfeit|1. e4 e5 2. Nf3 N...|\n",
      "| Bullet tournament |           ng99|Kingscrusher-YouTube|     0|2016.07.27|16:43:41|    2218|    2448|           -6.0|            7.0|C45|Scotch Game: Clas...|       60+0|Time forfeit|1. e4 Nc6 2. d4 e...|\n",
      "|            Bullet |        julio91|              Synt4x|     0|2016.07.27|16:43:40|    1499|    1635|           -7.0|            7.0|A49| East Indian Defense|       90+0|Time forfeit|1. Nf3 Nf6 2. d4 ...|\n",
      "| Bullet tournament |         jjj333|            Megarrex|     0|2016.07.27|16:43:41|    1953|    1935|          -12.0|           13.0|C00|French Defense: S...|       60+0|Time forfeit|1. e4 e6 2. c4 d5...|\n",
      "|         Classical |      Pascal234|     inodoro_pereira|     1|2016.07.27|16:43:41|    1925|    1812|           10.0|           -8.0|C53|Italian Game: Cla...|      300+5|Time forfeit|1. e4 e5 2. Nf3 N...|\n",
      "|             Blitz |   RONINSAMURAY|        damn__daniel|     1|2016.07.27|16:43:38|    1720|    1607|            8.0|           -7.0|C00|French Defense: K...|      300+0|Time forfeit|1. e4 e6 2. Nf3 d...|\n",
      "|             Blitz |     jeancauvin|              gagi13|     0|2016.07.27|16:43:37|    1618|    1685|           -9.0|            8.0|B21|Sicilian Defense:...|      180+0|      Normal|1. e4 c5 2. d4 Nc...|\n",
      "| Bullet tournament |         Feijoh|         mutedmonkey|     0|2016.07.27|16:43:41|    1492|    1569|          -11.0|           11.0|A40|      Englund Gambit|       60+0|Time forfeit|1. d4 e5 2. dxe5 ...|\n",
      "| Bullet tournament |          moady|             I0euros|     1|2016.07.27|16:43:41|    2042|    2149|           13.0|          -16.0|D91|Gruenfeld Defense...|       60+0|      Normal|1. d4 g6 2. c4 Bg...|\n",
      "| Bullet tournament |      stay4ever|         AndreasUrne|     1|2016.07.27|16:43:41|    2202|    1685|            3.0|           -1.0|B32|Sicilian Defense:...|       60+0|      Normal|1. e4 c5 2. Nf3 N...|\n",
      "|         Classical |         Dan163|   marceloserradiniz|     0|2016.07.27|16:43:41|    1559|    1385|          -21.0|           18.0|B01|Scandinavian Defense|      600+0|      Normal|1. e4 d5 2. d3 dx...|\n",
      "| Bullet tournament |       matein33|         sansanich97|     1|2016.07.27|16:43:41|    1871|    1882|           12.0|          -12.0|B01|Scandinavian Defe...|       60+0|      Normal|1. e4 d5 2. exd5 ...|\n",
      "|             Blitz |TheLightSquares|     The_Over_Killer|     0|2016.07.27|16:43:42|    2142|    2324|           -6.0|            6.0|A40|Modern Defense: B...|      300+0|      Normal|1. d4 g6 2. c4 Bg...|\n",
      "|             Blitz | ehsandonyadust|            aduran60|     0|2016.07.27|16:43:43|    1692|    1654|          -12.0|           12.0|D00|Queen's Pawn Game...|      300+1|      Normal|1. d4 d5 2. Bf4 N...|\n",
      "|         Classical |     Stravynsky|           theBeaver|     1|2016.07.27|16:43:40|    1752|    1966|           17.0|          -17.0|B07|     Pirc Defense #2|      900+2|      Normal|1. e4 { [%eval 0....|\n",
      "|            Bullet |         montav|         stonkolosou|     1|2016.07.27|16:43:32|    1669|    1719|           13.0|          -13.0|D02|Queen's Pawn Game...|      120+0|Time forfeit|1. Nf3 { [%eval 0...|\n",
      "|             Blitz |     Golyabacsi|            WillPkin|     1|2016.07.27|16:43:44|    1695|    1633|            8.0|           -8.0|C00|French Defense: L...|      300+0|      Normal|1. e4 e6 2. f4 d5...|\n",
      "|         Classical |    Ricardas_55|           korman686|     1|2016.07.27|16:43:42|    2066|    1609|            3.0|           -2.0|C00|French Defense: N...|      300+8|      Normal|1. e4 e6 2. d4 c6...|\n",
      "|             Blitz |         adikob|       cocuEUROPAxyu|     1|2016.07.27|16:43:44|    1767|    1779|           11.0|          -16.0|B01|Scandinavian Defe...|      180+0|Time forfeit|1. e4 d5 2. exd5 ...|\n",
      "|             Blitz |         espe21|           Terrible1|     1|2016.07.27|16:43:44|    2197|    2152|            9.0|          -10.0|A45|   Trompowsky Attack|      180+0|      Normal|1. d4 Nf6 2. Bg5 ...|\n",
      "+-------------------+---------------+--------------------+------+----------+--------+--------+--------+---------------+---------------+---+--------------------+-----------+------------+--------------------+\n",
      "only showing top 20 rows\n",
      "\n"
     ]
    }
   ],
   "source": [
    "spark.sql(\"CREATE TEMPORARY VIEW TABLE USING parquet OPTIONS (path \\'/dataset/chees_game.parquet')\")\n",
    "spark.sql(\"SELECT * FROM TABLE\").show()"
   ]
  },
  {
   "cell_type": "code",
   "execution_count": null,
   "metadata": {},
   "outputs": [],
   "source": []
  }
 ],
 "metadata": {
  "colab": {
   "authorship_tag": "ABX9TyN437aEFHIDBiLjrR03lewN",
   "name": "Echazu_Notebook.ipynb",
   "provenance": []
  },
  "kernelspec": {
   "display_name": "Python 3",
   "language": "python",
   "name": "python3"
  },
  "language_info": {
   "codemirror_mode": {
    "name": "ipython",
    "version": 3
   },
   "file_extension": ".py",
   "mimetype": "text/x-python",
   "name": "python",
   "nbconvert_exporter": "python",
   "pygments_lexer": "ipython3",
   "version": "3.7.3"
  }
 },
 "nbformat": 4,
 "nbformat_minor": 1
}
